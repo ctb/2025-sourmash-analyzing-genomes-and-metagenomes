{
 "cells": [
  {
   "cell_type": "code",
   "execution_count": 1,
   "id": "e9bd51ab-71ec-458f-b450-ded49f6f0acb",
   "metadata": {},
   "outputs": [],
   "source": [
    "from IPython.display import display, Markdown"
   ]
  },
  {
   "cell_type": "markdown",
   "id": "fab9d3cf-641f-418d-873d-c6662509b6c0",
   "metadata": {
    "jp-MarkdownHeadingCollapsed": true
   },
   "source": [
    "## 2. Using k-mers to compare three complete genomes\n",
    "\n",
    "Let's look at those three genomes from the previous notebook - but now, no longer cut down to 500kb.\n",
    "\n",
    "To do this, we're going to use the sourmash software, which does all the FracMinHash things but is\n",
    "much, much faster than using pure Python. (It relies on a programming language called Rust to do\n",
    "things faster.)\n",
    "\n",
    "I've pre-calculated k-mer sketches from 3 genomes, one Akkermansia genome (in `2.sig.zip`) and two \n",
    "Shewanella genomes (in `47.sig.zip` and `63.sig.zip`) at k=31.\n",
    "\n",
    "Let's start by asking about the overlap between them:"
   ]
  },
  {
   "cell_type": "code",
   "execution_count": 2,
   "id": "f41273b4-60dd-427e-ad6a-dedae13fd565",
   "metadata": {},
   "outputs": [
    {
     "name": "stdout",
     "output_type": "stream",
     "text": [
      "\u001b[K\n",
      "== This is sourmash version 4.8.11. ==\n",
      "\u001b[K== Please cite Irber et. al (2024), doi:10.21105/joss.06830. ==\n",
      "\n",
      "\u001b[Kloaded one signature each from inputs/2.sig.zip and inputs/47.sig.zip\n",
      "first signature:\n",
      "  signature filename: inputs/2.sig.zip\n",
      "  signature: CP001071.1 Akkermansia muciniphila ATCC BAA-835, complete genome\n",
      "  md5: f3a90d4e5528864a5bcc8434b0d0c3b1\n",
      "  k=31 molecule=DNA num=0 scaled=1000\n",
      "\n",
      "second signature:\n",
      "  signature filename: inputs/47.sig.zip\n",
      "  signature: NC_009665.1 Shewanella baltica OS185, complete genome\n",
      "  md5: 09a08691ce52952152f0e866a59f6261\n",
      "  k=31 molecule=DNA num=0 scaled=1000\n",
      "\n",
      "similarity:                  0.00000\n",
      "first contained in second:   0.00000\n",
      "second contained in first:   0.00000\n",
      "\n",
      "number of hashes in first:   2701\n",
      "number of hashes in second:  5177\n",
      "\n",
      "number of hashes in common:  0\n",
      "only in first:               2701\n",
      "only in second:              5177\n",
      "total (union):               7878\n",
      "\n"
     ]
    }
   ],
   "source": [
    "!sourmash sig overlap inputs/2.sig.zip inputs/47.sig.zip"
   ]
  },
  {
   "cell_type": "code",
   "execution_count": 3,
   "id": "6da49e0e-9f89-409b-bc14-d128dd5828be",
   "metadata": {},
   "outputs": [
    {
     "name": "stdout",
     "output_type": "stream",
     "text": [
      "\u001b[K\n",
      "== This is sourmash version 4.8.11. ==\n",
      "\u001b[K== Please cite Irber et. al (2024), doi:10.21105/joss.06830. ==\n",
      "\n",
      "\u001b[Kloaded one signature each from inputs/47.sig.zip and inputs/63.sig.zip\n",
      "first signature:\n",
      "  signature filename: inputs/47.sig.zip\n",
      "  signature: NC_009665.1 Shewanella baltica OS185, complete genome\n",
      "  md5: 09a08691ce52952152f0e866a59f6261\n",
      "  k=31 molecule=DNA num=0 scaled=1000\n",
      "\n",
      "second signature:\n",
      "  signature filename: inputs/63.sig.zip\n",
      "  signature: NC_011663.1 Shewanella baltica OS223, complete genome\n",
      "  md5: 38729c6374925585db28916b82a6f513\n",
      "  k=31 molecule=DNA num=0 scaled=1000\n",
      "\n",
      "similarity:                  0.32069\n",
      "first contained in second:   0.48851\n",
      "second contained in first:   0.48282\n",
      "\n",
      "number of hashes in first:   5177\n",
      "number of hashes in second:  5238\n",
      "\n",
      "number of hashes in common:  2529\n",
      "only in first:               2648\n",
      "only in second:              2709\n",
      "total (union):               7886\n",
      "\n"
     ]
    }
   ],
   "source": [
    "!sourmash sig overlap inputs/47.sig.zip inputs/63.sig.zip"
   ]
  },
  {
   "cell_type": "markdown",
   "id": "fc13271b-c0a4-4630-849e-04e212dd4c3b",
   "metadata": {},
   "source": [
    "## Displaying relationships with Venn diagrams and upset plots\n",
    "\n",
    "Let's start by building the Venn diagrams from the previous notebook, but using \n",
    "[the betterplot plugin for sourmash instead](https://github.com/sourmash-bio/sourmash_plugin_betterplot/)."
   ]
  },
  {
   "cell_type": "code",
   "execution_count": 4,
   "id": "940b21ff-eb47-44f5-bd8d-f9c6af0407f7",
   "metadata": {
    "scrolled": true
   },
   "outputs": [
    {
     "name": "stdout",
     "output_type": "stream",
     "text": [
      "\u001b[K\n",
      "== This is sourmash version 4.8.11. ==\n",
      "\u001b[K== Please cite Irber et. al (2024), doi:10.21105/joss.06830. ==\n",
      "\n",
      "\u001b[KLoading sketches from inputs/2.sig.zip\n",
      "\u001b[K...loaded 1 sketches from inputs/2.sig.zip.\n",
      "\u001b[KLoading sketches from inputs/47.sig.zip\n",
      "\u001b[K...loaded 1 sketches from inputs/47.sig.zip.\n",
      "\u001b[KLoading sketches from inputs/63.sig.zip\n",
      "\u001b[K...loaded 1 sketches from inputs/63.sig.zip.\n",
      "\u001b[Kfound three sketches - outputting a 3-part Venn diagram.\n",
      "\u001b[Ksaving to 'venn3.png'\n"
     ]
    }
   ],
   "source": [
    "!sourmash scripts venn inputs/2.sig.zip inputs/47.sig.zip inputs/63.sig.zip -o venn3.png --ident"
   ]
  },
  {
   "cell_type": "code",
   "execution_count": 5,
   "id": "ee90ee78-f8bb-4561-a5b5-ffd42a8eb357",
   "metadata": {},
   "outputs": [
    {
     "data": {
      "text/markdown": [
       "![3-way venn diagram](venn3.png)"
      ],
      "text/plain": [
       "<IPython.core.display.Markdown object>"
      ]
     },
     "metadata": {},
     "output_type": "display_data"
    }
   ],
   "source": [
    "display(Markdown(\"![3-way venn diagram](venn3.png)\"))"
   ]
  },
  {
   "cell_type": "markdown",
   "id": "cfbbbaa7-f6d5-4999-8cfe-5b1f5dea6279",
   "metadata": {},
   "source": [
    "### Venn diagrams vs upset plots\n",
    "\n",
    "Venn diagrams are good for 2 and 3-way comparisons, but past that they start to get difficult to interpret. An alternative\n",
    "type of diagram is the [upset plot](https://en.wikipedia.org/wiki/UpSet_plot), which shows relationships between many more sets.\n",
    "\n",
    "Let's take a look at the same relationships as above, but in an upset plot:"
   ]
  },
  {
   "cell_type": "code",
   "execution_count": 6,
   "id": "12027d9d-e706-40f6-bb72-ba284f8e627e",
   "metadata": {},
   "outputs": [
    {
     "name": "stdout",
     "output_type": "stream",
     "text": [
      "\u001b[K\n",
      "== This is sourmash version 4.8.11. ==\n",
      "\u001b[K== Please cite Irber et. al (2024), doi:10.21105/joss.06830. ==\n",
      "\n",
      "selecting sketches: k=31 scaled=1000 moltype=DNA\n",
      "loading sketches from file inputs/2.sig.zip\n",
      "loading sketches from file inputs/47.sig.zip\n",
      "loading sketches from file inputs/63.sig.zip\n",
      "\u001b[KLoaded 3 signatures & downsampled to scaled=1000\n",
      "\u001b[KShowing individual sketch membership b/c of --show-singletons\n",
      "\u001b[Kpowerset of distinct combinations: 7\n",
      "\u001b[Kgenerating intersections...\n",
      "\u001b[K\n",
      "...done! 4 non-empty intersections of 7 total.\n",
      "/home/ctbrown/.conda/envs/jup312/lib/python3.12/site-packages/upsetplot/data.py:303: FutureWarning: Downcasting object dtype arrays on .fillna, .ffill, .bfill is deprecated and will change in a future version. Call result.infer_objects(copy=False) instead. To opt-in to the future behavior, set `pd.set_option('future.no_silent_downcasting', True)`\n",
      "  df.fillna(False, inplace=True)\n",
      "\u001b[Ksetting min_subset_size='0%' (percentage)\n",
      "/home/ctbrown/.conda/envs/jup312/lib/python3.12/site-packages/upsetplot/plotting.py:795: FutureWarning: A value is trying to be set on a copy of a DataFrame or Series through chained assignment using an inplace method.\n",
      "The behavior will change in pandas 3.0. This inplace method will never work because the intermediate object on which we are setting values always behaves as a copy.\n",
      "\n",
      "For example, when doing 'df[col].method(value, inplace=True)', try using 'df.method({col: value}, inplace=True)' or df[col] = df[col].method(value) instead, to perform the operation inplace on the original object.\n",
      "\n",
      "\n",
      "  styles[\"linewidth\"].fillna(1, inplace=True)\n",
      "/home/ctbrown/.conda/envs/jup312/lib/python3.12/site-packages/upsetplot/plotting.py:796: FutureWarning: A value is trying to be set on a copy of a DataFrame or Series through chained assignment using an inplace method.\n",
      "The behavior will change in pandas 3.0. This inplace method will never work because the intermediate object on which we are setting values always behaves as a copy.\n",
      "\n",
      "For example, when doing 'df[col].method(value, inplace=True)', try using 'df.method({col: value}, inplace=True)' or df[col] = df[col].method(value) instead, to perform the operation inplace on the original object.\n",
      "\n",
      "\n",
      "  styles[\"facecolor\"].fillna(self._facecolor, inplace=True)\n",
      "/home/ctbrown/.conda/envs/jup312/lib/python3.12/site-packages/upsetplot/plotting.py:797: FutureWarning: A value is trying to be set on a copy of a DataFrame or Series through chained assignment using an inplace method.\n",
      "The behavior will change in pandas 3.0. This inplace method will never work because the intermediate object on which we are setting values always behaves as a copy.\n",
      "\n",
      "For example, when doing 'df[col].method(value, inplace=True)', try using 'df.method({col: value}, inplace=True)' or df[col] = df[col].method(value) instead, to perform the operation inplace on the original object.\n",
      "\n",
      "\n",
      "  styles[\"edgecolor\"].fillna(styles[\"facecolor\"], inplace=True)\n",
      "/home/ctbrown/.conda/envs/jup312/lib/python3.12/site-packages/upsetplot/plotting.py:798: FutureWarning: A value is trying to be set on a copy of a DataFrame or Series through chained assignment using an inplace method.\n",
      "The behavior will change in pandas 3.0. This inplace method will never work because the intermediate object on which we are setting values always behaves as a copy.\n",
      "\n",
      "For example, when doing 'df[col].method(value, inplace=True)', try using 'df.method({col: value}, inplace=True)' or df[col] = df[col].method(value) instead, to perform the operation inplace on the original object.\n",
      "\n",
      "\n",
      "  styles[\"linestyle\"].fillna(\"solid\", inplace=True)\n",
      "\u001b[Ksaving upsetr figure to 'upset.jpg'\n"
     ]
    }
   ],
   "source": [
    "!sourmash scripts upset inputs/2.sig.zip inputs/47.sig.zip inputs/63.sig.zip -o upset.jpg --show-singletons"
   ]
  },
  {
   "cell_type": "code",
   "execution_count": 7,
   "id": "d122335a-d081-487a-a5e7-94628f1bbc1b",
   "metadata": {},
   "outputs": [
    {
     "data": {
      "text/markdown": [
       "![upset plot](upset.jpg)"
      ],
      "text/plain": [
       "<IPython.core.display.Markdown object>"
      ]
     },
     "metadata": {},
     "output_type": "display_data"
    }
   ],
   "source": [
    "display(Markdown(\"![upset plot](upset.jpg)\"))"
   ]
  },
  {
   "cell_type": "markdown",
   "id": "553794a4-7db0-4614-af1c-4a1126da0acc",
   "metadata": {},
   "source": [
    "## Calculating some of these numbers in Python\n",
    "\n",
    "We can also use Python to calculate overlaps/intersections, unions, and various metrics.\n",
    "\n",
    "The metrics we'll focus on will be:\n",
    "* Jaccard: intersection of A and B over union of A and B. This tells you how similar A and B are overall.\n",
    "* containment of B in A: intersection of A and B over size of A. This tells you how much of B is in A."
   ]
  },
  {
   "cell_type": "code",
   "execution_count": 8,
   "id": "f4f95098-ebe9-41b2-b002-00720dc5bb43",
   "metadata": {},
   "outputs": [],
   "source": [
    "import sourmash"
   ]
  },
  {
   "cell_type": "code",
   "execution_count": 9,
   "id": "0fb92b16-a69c-4874-87c6-99d9491f31d7",
   "metadata": {},
   "outputs": [],
   "source": [
    "sig2 = list(sourmash.load_file_as_signatures('inputs/2.sig.zip'))[0]\n",
    "sketch2 = sig2.minhash\n",
    "\n",
    "sig47 = list(sourmash.load_file_as_signatures('inputs/47.sig.zip'))[0]\n",
    "sketch47 = sig47.minhash\n",
    "\n",
    "sig63 = list(sourmash.load_file_as_signatures('inputs/63.sig.zip'))[0]\n",
    "sketch63 = sig63.minhash"
   ]
  },
  {
   "cell_type": "code",
   "execution_count": 10,
   "id": "3ab58bb9-6756-416e-9b68-ca418ba10864",
   "metadata": {},
   "outputs": [
    {
     "data": {
      "text/plain": [
       "0.0"
      ]
     },
     "execution_count": 10,
     "metadata": {},
     "output_type": "execute_result"
    }
   ],
   "source": [
    "sketch2.jaccard(sketch47)"
   ]
  },
  {
   "cell_type": "code",
   "execution_count": 11,
   "id": "aaa338f3-5fc9-4805-abc4-e51a30d594fc",
   "metadata": {},
   "outputs": [
    {
     "data": {
      "text/plain": [
       "0.3206949023586102"
      ]
     },
     "execution_count": 11,
     "metadata": {},
     "output_type": "execute_result"
    }
   ],
   "source": [
    "sketch47.jaccard(sketch63)"
   ]
  },
  {
   "cell_type": "code",
   "execution_count": 12,
   "id": "99ee3fe8-cf7f-4b02-91eb-5d9c6279bc44",
   "metadata": {},
   "outputs": [
    {
     "data": {
      "text/plain": [
       "0.48850685725323545"
      ]
     },
     "execution_count": 12,
     "metadata": {},
     "output_type": "execute_result"
    }
   ],
   "source": [
    "sketch47.contained_by(sketch63)"
   ]
  },
  {
   "cell_type": "code",
   "execution_count": 13,
   "id": "b2086a8a-6bff-4f11-b6ac-dc5e12c1bd25",
   "metadata": {},
   "outputs": [
    {
     "data": {
      "text/plain": [
       "0.48281786941580757"
      ]
     },
     "execution_count": 13,
     "metadata": {},
     "output_type": "execute_result"
    }
   ],
   "source": [
    "sketch63.contained_by(sketch47)"
   ]
  },
  {
   "cell_type": "code",
   "execution_count": 14,
   "id": "9f547c88-754f-4a4e-9431-ebb848fe59ca",
   "metadata": {},
   "outputs": [
    {
     "data": {
      "text/plain": [
       "0.0"
      ]
     },
     "execution_count": 14,
     "metadata": {},
     "output_type": "execute_result"
    }
   ],
   "source": [
    "sketch47.contained_by(sketch2)"
   ]
  },
  {
   "cell_type": "markdown",
   "id": "4023ac62-766d-4295-88ae-9dc2d25275d8",
   "metadata": {},
   "source": [
    "Hopefull these numbers are (kind of) clear from the above Venn and upset plots!"
   ]
  }
 ],
 "metadata": {
  "kernelspec": {
   "display_name": "Python [conda env:.conda-jup312]",
   "language": "python",
   "name": "conda-env-.conda-jup312-py"
  },
  "language_info": {
   "codemirror_mode": {
    "name": "ipython",
    "version": 3
   },
   "file_extension": ".py",
   "mimetype": "text/x-python",
   "name": "python",
   "nbconvert_exporter": "python",
   "pygments_lexer": "ipython3",
   "version": "3.12.3"
  }
 },
 "nbformat": 4,
 "nbformat_minor": 5
}
