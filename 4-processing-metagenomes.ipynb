{
 "cells": [
  {
   "cell_type": "markdown",
   "id": "3b01ae4d-19ff-417f-94ae-a1c52935a6de",
   "metadata": {},
   "source": [
    "## Looking at how k-mers are lost as metagenomes are processed\n",
    "\n",
    "We can also use k-mers to evaluate how various processing steps affect the content of metagenomes.\n",
    "Let's take a look at how _assembly_ and _binning_ change what you see.\n",
    "\n",
    "Here, I've provided three sketches of our pig metagenome SRR11125434: the raw reads, the assembled reads, and the genomes that result from binning. Let's take a look at how their content overlaps."
   ]
  },
  {
   "cell_type": "code",
   "execution_count": 1,
   "id": "10c90c9a-c087-46a2-b592-d6fcee52d807",
   "metadata": {},
   "outputs": [
    {
     "name": "stdout",
     "output_type": "stream",
     "text": [
      "SRR11125434_assembly.sig.zip  SRR11125434_reads.sig.zip\n",
      "SRR11125434_bins.sig.zip\n"
     ]
    }
   ],
   "source": [
    "ls sketches/"
   ]
  },
  {
   "cell_type": "code",
   "execution_count": 2,
   "id": "04d3d0b5-3c6c-4f46-821c-276b3ea87ee6",
   "metadata": {},
   "outputs": [
    {
     "name": "stdout",
     "output_type": "stream",
     "text": [
      "\u001b[K\n",
      "== This is sourmash version 4.8.11. ==\n",
      "\u001b[K== Please cite Irber et. al (2024), doi:10.21105/joss.06830. ==\n",
      "\n",
      "selecting sketches: k=31 scaled=1000 moltype=DNA\n",
      "loading sketches from file sketches/SRR11125434_reads.sig.zip\n",
      "loading sketches from file sketches/SRR11125434_assembly.sig.zip\n",
      "loading sketches from file sketches/SRR11125434_bins.sig.zip\n",
      "\u001b[KLoaded 3 signatures & downsampled to scaled=1000\n",
      "\u001b[KShowing individual sketch membership b/c of --show-singletons\n",
      "\u001b[Kpowerset of distinct combinations: 7\n",
      "\u001b[Kgenerating intersections...\n",
      "\u001b[K\n",
      "...done! 4 non-empty intersections of 7 total.\n",
      "/home/ctbrown/.conda/envs/jup312/lib/python3.12/site-packages/upsetplot/data.py:303: FutureWarning: Downcasting object dtype arrays on .fillna, .ffill, .bfill is deprecated and will change in a future version. Call result.infer_objects(copy=False) instead. To opt-in to the future behavior, set `pd.set_option('future.no_silent_downcasting', True)`\n",
      "  df.fillna(False, inplace=True)\n",
      "\u001b[Ksetting min_subset_size='0%' (percentage)\n",
      "/home/ctbrown/.conda/envs/jup312/lib/python3.12/site-packages/upsetplot/plotting.py:795: FutureWarning: A value is trying to be set on a copy of a DataFrame or Series through chained assignment using an inplace method.\n",
      "The behavior will change in pandas 3.0. This inplace method will never work because the intermediate object on which we are setting values always behaves as a copy.\n",
      "\n",
      "For example, when doing 'df[col].method(value, inplace=True)', try using 'df.method({col: value}, inplace=True)' or df[col] = df[col].method(value) instead, to perform the operation inplace on the original object.\n",
      "\n",
      "\n",
      "  styles[\"linewidth\"].fillna(1, inplace=True)\n",
      "/home/ctbrown/.conda/envs/jup312/lib/python3.12/site-packages/upsetplot/plotting.py:796: FutureWarning: A value is trying to be set on a copy of a DataFrame or Series through chained assignment using an inplace method.\n",
      "The behavior will change in pandas 3.0. This inplace method will never work because the intermediate object on which we are setting values always behaves as a copy.\n",
      "\n",
      "For example, when doing 'df[col].method(value, inplace=True)', try using 'df.method({col: value}, inplace=True)' or df[col] = df[col].method(value) instead, to perform the operation inplace on the original object.\n",
      "\n",
      "\n",
      "  styles[\"facecolor\"].fillna(self._facecolor, inplace=True)\n",
      "/home/ctbrown/.conda/envs/jup312/lib/python3.12/site-packages/upsetplot/plotting.py:797: FutureWarning: A value is trying to be set on a copy of a DataFrame or Series through chained assignment using an inplace method.\n",
      "The behavior will change in pandas 3.0. This inplace method will never work because the intermediate object on which we are setting values always behaves as a copy.\n",
      "\n",
      "For example, when doing 'df[col].method(value, inplace=True)', try using 'df.method({col: value}, inplace=True)' or df[col] = df[col].method(value) instead, to perform the operation inplace on the original object.\n",
      "\n",
      "\n",
      "  styles[\"edgecolor\"].fillna(styles[\"facecolor\"], inplace=True)\n",
      "/home/ctbrown/.conda/envs/jup312/lib/python3.12/site-packages/upsetplot/plotting.py:798: FutureWarning: A value is trying to be set on a copy of a DataFrame or Series through chained assignment using an inplace method.\n",
      "The behavior will change in pandas 3.0. This inplace method will never work because the intermediate object on which we are setting values always behaves as a copy.\n",
      "\n",
      "For example, when doing 'df[col].method(value, inplace=True)', try using 'df.method({col: value}, inplace=True)' or df[col] = df[col].method(value) instead, to perform the operation inplace on the original object.\n",
      "\n",
      "\n",
      "  styles[\"linestyle\"].fillna(\"solid\", inplace=True)\n",
      "\u001b[Ksaving upsetr figure to 'SRR11125434.upset.png'\n"
     ]
    }
   ],
   "source": [
    "!sourmash scripts upset sketches/SRR11125434_reads.sig.zip sketches/SRR11125434_assembly.sig.zip \\\n",
    "    sketches/SRR11125434_bins.sig.zip -o SRR11125434.upset.png -k 31 --show-singletons"
   ]
  },
  {
   "cell_type": "markdown",
   "id": "99ccc33c-34ba-4299-a1e5-e55b4446a825",
   "metadata": {},
   "source": [
    "### Comparing the three files\n",
    "\n",
    "We see the below:\n",
    "\n",
    "![3-way comparison upset foo](SRR11125434.upset.png)\n",
    "\n",
    "What's going on?"
   ]
  },
  {
   "cell_type": "markdown",
   "id": "f961e520-02a8-46e2-b809-4e6d8e5ee139",
   "metadata": {},
   "source": [
    "## How does this compare to abundance filtered metagenomes?"
   ]
  },
  {
   "cell_type": "code",
   "execution_count": 3,
   "id": "d72cdc0d-f403-47c5-9db0-ec8b2ae584c6",
   "metadata": {},
   "outputs": [
    {
     "name": "stdout",
     "output_type": "stream",
     "text": [
      "\u001b[K\n",
      "== This is sourmash version 4.8.11. ==\n",
      "\u001b[K== Please cite Irber et. al (2024), doi:10.21105/joss.06830. ==\n",
      "\n",
      "\u001b[Kloaded 1 total that matched ksize & molecule typeg.zip'\n",
      "\u001b[Kextracted 1 signatures from 1 file(s)\n",
      "\u001b[K\n",
      "== This is sourmash version 4.8.11. ==\n",
      "\u001b[K== Please cite Irber et. al (2024), doi:10.21105/joss.06830. ==\n",
      "\n",
      "\u001b[Kloaded 1 signatures total, from 1 files125434_reads.m3.temp.sig.zip'\n",
      "\u001b[Kset name to 'SRR11125434_reads_m3' on 1 signatures\n"
     ]
    }
   ],
   "source": [
    "!rm -f outputs/SRR11125434_reads.m*\n",
    "!sourmash sig filter sketches/SRR11125434_reads.sig.zip -m 3 -k 31 -o outputs/SRR11125434_reads.m3.temp.sig.zip\n",
    "!sourmash sig rename outputs/SRR11125434_reads.m3.temp.sig.zip SRR11125434_reads_m3 -o outputs/SRR11125434_reads.m3.sig.zip"
   ]
  },
  {
   "cell_type": "code",
   "execution_count": 4,
   "id": "a594f1c7-c6a5-4aff-98be-0db4b58fb423",
   "metadata": {},
   "outputs": [
    {
     "name": "stdout",
     "output_type": "stream",
     "text": [
      "\u001b[K\n",
      "== This is sourmash version 4.8.11. ==\n",
      "\u001b[K== Please cite Irber et. al (2024), doi:10.21105/joss.06830. ==\n",
      "\n",
      "selecting sketches: k=31 scaled=1000 moltype=DNA\n",
      "loading sketches from file sketches/SRR11125434_reads.sig.zip\n",
      "loading sketches from file sketches/SRR11125434_assembly.sig.zip\n",
      "loading sketches from file sketches/SRR11125434_bins.sig.zip\n",
      "loading sketches from file outputs/SRR11125434_reads.m3.sig.zip\n",
      "\u001b[KLoaded 4 signatures & downsampled to scaled=1000\n",
      "\u001b[KShowing individual sketch membership b/c of --show-singletons\n",
      "\u001b[Kpowerset of distinct combinations: 15\n",
      "\u001b[Kgenerating intersections...\n",
      "\u001b[K...10 of 15\n",
      "...done! 7 non-empty intersections of 15 total.\n",
      "/home/ctbrown/.conda/envs/jup312/lib/python3.12/site-packages/upsetplot/data.py:303: FutureWarning: Downcasting object dtype arrays on .fillna, .ffill, .bfill is deprecated and will change in a future version. Call result.infer_objects(copy=False) instead. To opt-in to the future behavior, set `pd.set_option('future.no_silent_downcasting', True)`\n",
      "  df.fillna(False, inplace=True)\n",
      "\u001b[Ksetting min_subset_size='0%' (percentage)\n",
      "/home/ctbrown/.conda/envs/jup312/lib/python3.12/site-packages/upsetplot/plotting.py:795: FutureWarning: A value is trying to be set on a copy of a DataFrame or Series through chained assignment using an inplace method.\n",
      "The behavior will change in pandas 3.0. This inplace method will never work because the intermediate object on which we are setting values always behaves as a copy.\n",
      "\n",
      "For example, when doing 'df[col].method(value, inplace=True)', try using 'df.method({col: value}, inplace=True)' or df[col] = df[col].method(value) instead, to perform the operation inplace on the original object.\n",
      "\n",
      "\n",
      "  styles[\"linewidth\"].fillna(1, inplace=True)\n",
      "/home/ctbrown/.conda/envs/jup312/lib/python3.12/site-packages/upsetplot/plotting.py:796: FutureWarning: A value is trying to be set on a copy of a DataFrame or Series through chained assignment using an inplace method.\n",
      "The behavior will change in pandas 3.0. This inplace method will never work because the intermediate object on which we are setting values always behaves as a copy.\n",
      "\n",
      "For example, when doing 'df[col].method(value, inplace=True)', try using 'df.method({col: value}, inplace=True)' or df[col] = df[col].method(value) instead, to perform the operation inplace on the original object.\n",
      "\n",
      "\n",
      "  styles[\"facecolor\"].fillna(self._facecolor, inplace=True)\n",
      "/home/ctbrown/.conda/envs/jup312/lib/python3.12/site-packages/upsetplot/plotting.py:797: FutureWarning: A value is trying to be set on a copy of a DataFrame or Series through chained assignment using an inplace method.\n",
      "The behavior will change in pandas 3.0. This inplace method will never work because the intermediate object on which we are setting values always behaves as a copy.\n",
      "\n",
      "For example, when doing 'df[col].method(value, inplace=True)', try using 'df.method({col: value}, inplace=True)' or df[col] = df[col].method(value) instead, to perform the operation inplace on the original object.\n",
      "\n",
      "\n",
      "  styles[\"edgecolor\"].fillna(styles[\"facecolor\"], inplace=True)\n",
      "/home/ctbrown/.conda/envs/jup312/lib/python3.12/site-packages/upsetplot/plotting.py:798: FutureWarning: A value is trying to be set on a copy of a DataFrame or Series through chained assignment using an inplace method.\n",
      "The behavior will change in pandas 3.0. This inplace method will never work because the intermediate object on which we are setting values always behaves as a copy.\n",
      "\n",
      "For example, when doing 'df[col].method(value, inplace=True)', try using 'df.method({col: value}, inplace=True)' or df[col] = df[col].method(value) instead, to perform the operation inplace on the original object.\n",
      "\n",
      "\n",
      "  styles[\"linestyle\"].fillna(\"solid\", inplace=True)\n",
      "\u001b[Ksaving upsetr figure to 'SRR11125434.m4.upset.png'\n"
     ]
    }
   ],
   "source": [
    "!sourmash scripts upset sketches/SRR11125434_reads.sig.zip sketches/SRR11125434_assembly.sig.zip \\\n",
    "    sketches/SRR11125434_bins.sig.zip outputs/SRR11125434_reads.m3.sig.zip -o SRR11125434.m4.upset.png -k 31 --show-singletons"
   ]
  },
  {
   "cell_type": "markdown",
   "id": "27f23bce-da63-40d9-ba23-c19645d1bc8e",
   "metadata": {},
   "source": [
    "![4-way upset plot with abundance filtering](SRR11125434.m4.upset.png)"
   ]
  },
  {
   "cell_type": "code",
   "execution_count": null,
   "id": "985c4719-3213-46dc-8dca-22f62b20cbe9",
   "metadata": {},
   "outputs": [],
   "source": []
  }
 ],
 "metadata": {
  "kernelspec": {
   "display_name": "Python [conda env:.conda-jup312]",
   "language": "python",
   "name": "conda-env-.conda-jup312-py"
  },
  "language_info": {
   "codemirror_mode": {
    "name": "ipython",
    "version": 3
   },
   "file_extension": ".py",
   "mimetype": "text/x-python",
   "name": "python",
   "nbconvert_exporter": "python",
   "pygments_lexer": "ipython3",
   "version": "3.12.3"
  }
 },
 "nbformat": 4,
 "nbformat_minor": 5
}
