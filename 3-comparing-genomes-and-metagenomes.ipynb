{
 "cells": [
  {
   "cell_type": "code",
   "execution_count": 1,
   "id": "754fdf6e-339f-4edb-bf8b-ff97e004ab96",
   "metadata": {},
   "outputs": [
    {
     "name": "stdout",
     "output_type": "stream",
     "text": [
      "1-kmers-and-minhash.ipynb                  Snakefile\n",
      "2-upset-plots-and-real-genomes.ipynb       Snakefile~\n",
      "3-comparing-genomes-and-metagenomes.ipynb  \u001b[0m\u001b[01;34mgenomes\u001b[0m/\n",
      "4-processing-metagenomes.ipynb             \u001b[01;34minputs\u001b[0m/\n",
      "README.md                                  \u001b[01;34moutputs\u001b[0m/\n",
      "SRR11125434.m4.upset.png                   \u001b[01;34msketches\u001b[0m/\n",
      "SRR11125434.upset.png                      upset.png\n",
      "SRR11125434_reads.x.ecoli.upset.png        venn3.png\n"
     ]
    }
   ],
   "source": [
    "ls"
   ]
  },
  {
   "cell_type": "code",
   "execution_count": 3,
   "id": "708ed94f-6413-415a-8648-b5d3a5e8a001",
   "metadata": {},
   "outputs": [
    {
     "name": "stdout",
     "output_type": "stream",
     "text": [
      "SRR11125434_assembly.sig.zip  SRR11125434_reads.sig.zip\n",
      "SRR11125434_bins.sig.zip\n"
     ]
    }
   ],
   "source": [
    "ls sketches"
   ]
  },
  {
   "cell_type": "markdown",
   "id": "08da1580-aa2c-4018-b931-52aa2f198821",
   "metadata": {},
   "source": [
    "## Looking at relationships between _metagenomes_ and genomes\n",
    "\n",
    "One of the nice things about k-mers (vs read mapping) is that we can extract k-mers from both assembled\n",
    "_and_ unassembled data sets, and use them to compare data sets irrespective of data set type.\n",
    "(With mapping or alignment based metrics, comparing two read sets doesn't really make sense.)\n",
    "\n",
    "However, when we do this, some of our metrics don't really make much sense - Jaccard, in particular.\n",
    "This is because metagenomes are really large, and so the Jaccard (which divides by the number\n",
    "of the k-mers in the metagenome) always ends up being really small.\n",
    "Let's take a look at the numbers.\n",
    "\n",
    "Here we're using a pig gut metagenome, [SRR11125434](https://www.ebi.ac.uk/ena/browser/view/SRR11125434). Nothing\n",
    "particularly special about it, it's just one of a few thousand we had handy ;). And we'll look at E. coli presence\n",
    "in the metagenome."
   ]
  },
  {
   "cell_type": "code",
   "execution_count": 5,
   "id": "a3e56768-0d19-448a-b1d1-5a9e19841c5f",
   "metadata": {},
   "outputs": [
    {
     "name": "stdout",
     "output_type": "stream",
     "text": [
      "\u001b[K\n",
      "== This is sourmash version 4.8.11. ==\n",
      "\u001b[K== Please cite Irber et. al (2024), doi:10.21105/joss.06830. ==\n",
      "\n",
      "\u001b[Kloaded one signature each from sketches/SRR11125434_reads.sig.zip and inputs/ecoli.sig.zip\n",
      "first signature:\n",
      "  signature filename: sketches/SRR11125434_reads.sig.zip\n",
      "  signature: SRR11125434_reads\n",
      "  md5: ec830527b9fc408a1558fc335b84d679\n",
      "  k=31 molecule=DNA num=0 scaled=1000\n",
      "\n",
      "second signature:\n",
      "  signature filename: inputs/ecoli.sig.zip\n",
      "  signature: GCF_003697165.2 Escherichia coli DSM 30083 = JCM 1649 = ATCC 11775 strain=ATCC 11775, ASM369716v2\n",
      "  md5: 60bfe150353edefcbd7db7314951359d\n",
      "  k=31 molecule=DNA num=0 scaled=1000\n",
      "\n",
      "similarity:                  0.00290\n",
      "first contained in second:   0.00422\n",
      "second contained in first:   0.17695\n",
      "\n",
      "number of hashes in first:   205916\n",
      "number of hashes in second:  4911\n",
      "\n",
      "number of hashes in common:  869\n",
      "only in first:               205047\n",
      "only in second:              4042\n",
      "total (union):               209958\n",
      "\n"
     ]
    }
   ],
   "source": [
    "!sourmash sig overlap sketches/SRR11125434_reads.sig.zip inputs/ecoli.sig.zip -k 31"
   ]
  },
  {
   "cell_type": "markdown",
   "id": "4b346904-38f5-4264-940b-818cf9fd341e",
   "metadata": {},
   "source": [
    "## Upset plot\n",
    "\n",
    "If we look at the upset plot, we can see what's going on a bit more clearly:\n"
   ]
  },
  {
   "cell_type": "code",
   "execution_count": 7,
   "id": "933583c4-fdfc-4d78-8604-df0c0bda5eda",
   "metadata": {},
   "outputs": [
    {
     "name": "stdout",
     "output_type": "stream",
     "text": [
      "\u001b[K\n",
      "== This is sourmash version 4.8.11. ==\n",
      "\u001b[K== Please cite Irber et. al (2024), doi:10.21105/joss.06830. ==\n",
      "\n",
      "selecting sketches: k=31 scaled=1000 moltype=DNA\n",
      "loading sketches from file sketches/SRR11125434_reads.sig.zip\n",
      "loading sketches from file inputs/ecoli.sig.zip\n",
      "\u001b[KLoaded 2 signatures & downsampled to scaled=1000\n",
      "\u001b[KShowing individual sketch membership b/c of --show-singletons\n",
      "\u001b[Kpowerset of distinct combinations: 3\n",
      "\u001b[Kgenerating intersections...\n",
      "\u001b[K\n",
      "...done! 3 non-empty intersections of 3 total.\n",
      "/home/ctbrown/.conda/envs/jup312/lib/python3.12/site-packages/upsetplot/data.py:303: FutureWarning: Downcasting object dtype arrays on .fillna, .ffill, .bfill is deprecated and will change in a future version. Call result.infer_objects(copy=False) instead. To opt-in to the future behavior, set `pd.set_option('future.no_silent_downcasting', True)`\n",
      "  df.fillna(False, inplace=True)\n",
      "\u001b[Ksetting min_subset_size='0%' (percentage)\n",
      "/home/ctbrown/.conda/envs/jup312/lib/python3.12/site-packages/upsetplot/plotting.py:795: FutureWarning: A value is trying to be set on a copy of a DataFrame or Series through chained assignment using an inplace method.\n",
      "The behavior will change in pandas 3.0. This inplace method will never work because the intermediate object on which we are setting values always behaves as a copy.\n",
      "\n",
      "For example, when doing 'df[col].method(value, inplace=True)', try using 'df.method({col: value}, inplace=True)' or df[col] = df[col].method(value) instead, to perform the operation inplace on the original object.\n",
      "\n",
      "\n",
      "  styles[\"linewidth\"].fillna(1, inplace=True)\n",
      "/home/ctbrown/.conda/envs/jup312/lib/python3.12/site-packages/upsetplot/plotting.py:796: FutureWarning: A value is trying to be set on a copy of a DataFrame or Series through chained assignment using an inplace method.\n",
      "The behavior will change in pandas 3.0. This inplace method will never work because the intermediate object on which we are setting values always behaves as a copy.\n",
      "\n",
      "For example, when doing 'df[col].method(value, inplace=True)', try using 'df.method({col: value}, inplace=True)' or df[col] = df[col].method(value) instead, to perform the operation inplace on the original object.\n",
      "\n",
      "\n",
      "  styles[\"facecolor\"].fillna(self._facecolor, inplace=True)\n",
      "/home/ctbrown/.conda/envs/jup312/lib/python3.12/site-packages/upsetplot/plotting.py:797: FutureWarning: A value is trying to be set on a copy of a DataFrame or Series through chained assignment using an inplace method.\n",
      "The behavior will change in pandas 3.0. This inplace method will never work because the intermediate object on which we are setting values always behaves as a copy.\n",
      "\n",
      "For example, when doing 'df[col].method(value, inplace=True)', try using 'df.method({col: value}, inplace=True)' or df[col] = df[col].method(value) instead, to perform the operation inplace on the original object.\n",
      "\n",
      "\n",
      "  styles[\"edgecolor\"].fillna(styles[\"facecolor\"], inplace=True)\n",
      "/home/ctbrown/.conda/envs/jup312/lib/python3.12/site-packages/upsetplot/plotting.py:798: FutureWarning: A value is trying to be set on a copy of a DataFrame or Series through chained assignment using an inplace method.\n",
      "The behavior will change in pandas 3.0. This inplace method will never work because the intermediate object on which we are setting values always behaves as a copy.\n",
      "\n",
      "For example, when doing 'df[col].method(value, inplace=True)', try using 'df.method({col: value}, inplace=True)' or df[col] = df[col].method(value) instead, to perform the operation inplace on the original object.\n",
      "\n",
      "\n",
      "  styles[\"linestyle\"].fillna(\"solid\", inplace=True)\n",
      "\u001b[Ksaving upsetr figure to 'SRR11125434_reads.x.ecoli.upset.png'\n"
     ]
    }
   ],
   "source": [
    "!sourmash scripts upset sketches/SRR11125434_reads.sig.zip inputs/ecoli.sig.zip -k 31 \\\n",
    "    --show-singletons -o SRR11125434_reads.x.ecoli.upset.png"
   ]
  },
  {
   "cell_type": "markdown",
   "id": "31a5f30a-422b-42bd-856e-6dcd9ca647b7",
   "metadata": {},
   "source": [
    "## upset plot, actual\n",
    "\n",
    "![SRR11125434 vs ecoli](SRR11125434_reads.x.ecoli.upset.png)\n",
    "\n",
    "Basically, E. coli is a very small part of this metagenome, while the metagenome itself is ...quite big!"
   ]
  },
  {
   "cell_type": "code",
   "execution_count": null,
   "id": "4d9ee416-28f3-4ed1-a971-b92f5b72efaa",
   "metadata": {},
   "outputs": [],
   "source": []
  }
 ],
 "metadata": {
  "kernelspec": {
   "display_name": "Python [conda env:.conda-jup312]",
   "language": "python",
   "name": "conda-env-.conda-jup312-py"
  },
  "language_info": {
   "codemirror_mode": {
    "name": "ipython",
    "version": 3
   },
   "file_extension": ".py",
   "mimetype": "text/x-python",
   "name": "python",
   "nbconvert_exporter": "python",
   "pygments_lexer": "ipython3",
   "version": "3.12.3"
  }
 },
 "nbformat": 4,
 "nbformat_minor": 5
}
