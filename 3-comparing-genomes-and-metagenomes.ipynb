{
 "cells": [
  {
   "cell_type": "code",
   "execution_count": 9,
   "id": "754fdf6e-339f-4edb-bf8b-ff97e004ab96",
   "metadata": {},
   "outputs": [
    {
     "name": "stdout",
     "output_type": "stream",
     "text": [
      "1-kmers-and-minhash.ipynb             Snakefile       \u001b[0m\u001b[01;34minputs\u001b[0m/    venn3.png\n",
      "2-upset-plots-and-real-genomes.ipynb  Untitled.ipynb  \u001b[01;34msketches\u001b[0m/\n",
      "README.md                             \u001b[01;34mgenomes\u001b[0m/        upset.png\n"
     ]
    }
   ],
   "source": [
    "ls"
   ]
  },
  {
   "cell_type": "code",
   "execution_count": 10,
   "id": "708ed94f-6413-415a-8648-b5d3a5e8a001",
   "metadata": {},
   "outputs": [
    {
     "name": "stdout",
     "output_type": "stream",
     "text": [
      "SRR11125434_assembly.sig.zip  SRR11125434_reads.sig.zip\n",
      "SRR11125434_bins.sig.zip\n"
     ]
    }
   ],
   "source": [
    "ls sketches"
   ]
  },
  {
   "cell_type": "markdown",
   "id": "08da1580-aa2c-4018-b931-52aa2f198821",
   "metadata": {},
   "source": [
    "## Looking at relationships between _metagenomes_ and genomes\n",
    "\n",
    "One of the nice things about k-mers (vs read mapping) is that we can extract k-mers from both assembled\n",
    "_and_ unassembled data sets, and use them to compare data sets irrespective of data set type.\n",
    "(With mapping or alignment based metrics, comparing two read sets doesn't really make sense.)\n",
    "\n",
    "However, when we do this, some of our metrics don't really make much sense - Jaccard, in particular.\n",
    "This is because metagenomes are really large, and so the Jaccard (which divides by the number\n",
    "of the k-mers in the metagenome) always ends up being really small.\n",
    "Let's take a look at the numbers.\n",
    "\n",
    "(Here we're using a pig gut metagenome, [SRR11125434](https://www.ebi.ac.uk/ena/browser/view/SRR11125434). Nothing\n",
    "particularly special about it, it's just one of a few thousand we had handy ;)"
   ]
  },
  {
   "cell_type": "code",
   "execution_count": null,
   "id": "a3e56768-0d19-448a-b1d1-5a9e19841c5f",
   "metadata": {},
   "outputs": [],
   "source": [
    "!sourmash sig overlap sketches/SRR11125434_reads.sig.zip "
   ]
  }
 ],
 "metadata": {
  "kernelspec": {
   "display_name": "Python [conda env:.conda-jup312]",
   "language": "python",
   "name": "conda-env-.conda-jup312-py"
  },
  "language_info": {
   "codemirror_mode": {
    "name": "ipython",
    "version": 3
   },
   "file_extension": ".py",
   "mimetype": "text/x-python",
   "name": "python",
   "nbconvert_exporter": "python",
   "pygments_lexer": "ipython3",
   "version": "3.12.3"
  }
 },
 "nbformat": 4,
 "nbformat_minor": 5
}
