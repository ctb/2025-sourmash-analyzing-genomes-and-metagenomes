{
 "cells": [
  {
   "cell_type": "markdown",
   "id": "2d0ffdc2-0c2c-43fe-b72f-6e90a6089341",
   "metadata": {},
   "source": [
    "# 5. Evaluating taxonomic content of data\n",
    "\n",
    "sourmash can also evaluate taxonomic content of data, based on k-mer overlaps with reference genomes.\n",
    "\n",
    "(These analyses take too long to run interactively, so I've produced a bunch of gather.csv files in outputs already using\n",
    "the commands in the Snakefile - basically, `sourmash scripts fastgather` and then `sourmash tax annotate`.)\n",
    "\n",
    "Let's take a look at the taxonomic classification of the reads sketch at the class level"
   ]
  },
  {
   "cell_type": "code",
   "execution_count": 1,
   "id": "543d56ae-02e2-4f13-99ae-9ea967d74d65",
   "metadata": {},
   "outputs": [
    {
     "name": "stdout",
     "output_type": "stream",
     "text": [
      "SRR11125434_reads\n",
      "\t47.0% d__Bacteria;p__Bacillota_A;c__Clostridia (2732 species)\n",
      "\t30.6% d__Bacteria;p__Bacteroidota;c__Bacteroidia (1267 species)\n",
      "\t3.6% d__Bacteria;p__Bacillota;c__Bacilli (232 species)\n",
      "\t2.0% d__Archaea;p__Methanobacteriota;c__Methanobacteria (28 species)\n",
      "\t** 49 matches below threshold; 13.6% unknown\n"
     ]
    }
   ],
   "source": [
    "!scripts/display-tax.py outputs/SRR11125434_reads.x.gtdb-rs220.gather.with-lineages.csv -r class"
   ]
  },
  {
   "cell_type": "markdown",
   "id": "c19b91e4-e696-4be5-8d60-d1b1cebb510d",
   "metadata": {},
   "source": [
    "and now compare that to the taxonomic classification of the assembly:"
   ]
  },
  {
   "cell_type": "code",
   "execution_count": 2,
   "id": "248c13d3-e58a-4f84-8af4-f95c6ad14c5f",
   "metadata": {},
   "outputs": [
    {
     "name": "stdout",
     "output_type": "stream",
     "text": [
      "SRR11125434_assembly\n",
      "\t60.2% d__Bacteria;p__Bacillota_A;c__Clostridia (787 species)\n",
      "\t22.0% d__Bacteria;p__Bacteroidota;c__Bacteroidia (250 species)\n",
      "\t4.8% d__Bacteria;p__Bacillota;c__Bacilli (44 species)\n",
      "\t4.4% d__Archaea;p__Methanobacteriota;c__Methanobacteria (21 species)\n",
      "\t** 12 matches below threshold; 8.1% unknown\n"
     ]
    }
   ],
   "source": [
    "!scripts/display-tax.py outputs/SRR11125434_assembly.x.gtdb-rs220.gather.with-lineages.csv -r class"
   ]
  },
  {
   "cell_type": "markdown",
   "id": "4444819e-c5b0-48cf-b512-3cfe5f05ae7b",
   "metadata": {},
   "source": [
    "It doesn't look too different in the basic composition - same members - but the overall percentages are quite different!\n",
    "\n",
    "What about the bins?"
   ]
  },
  {
   "cell_type": "code",
   "execution_count": 3,
   "id": "0f602eb7-982a-49ff-86f4-f68c3988e2f5",
   "metadata": {},
   "outputs": [
    {
     "name": "stdout",
     "output_type": "stream",
     "text": [
      "SRR11125434_bins\n",
      "\t62.7% d__Bacteria;p__Bacillota_A;c__Clostridia (166 species)\n",
      "\t18.3% d__Bacteria;p__Bacteroidota;c__Bacteroidia (32 species)\n",
      "\t14.6% d__Bacteria;p__Bacillota;c__Bacilli (31 species)\n",
      "\t** 6 matches below threshold; 4.2% unknown\n"
     ]
    }
   ],
   "source": [
    "!scripts/display-tax.py outputs/SRR11125434_bins.x.gtdb-rs220.gather.with-lineages.csv -r class"
   ]
  },
  {
   "cell_type": "markdown",
   "id": "42e6d1c6-e1ef-46e8-b26c-d4d5326811fe",
   "metadata": {},
   "source": [
    "Interesting - Methanobacteria goes away completely! And the total number of matches keeps on dropping.\n",
    "\n",
    "## Questions\n",
    "\n",
    "* What's happening to the lost species??\n",
    "* Is everything that's lost \"real information\", or are we getting rid of noise? (And how could we know/confirm our answer?)\n",
    "* why does the % unknown decrease as we process the data?"
   ]
  },
  {
   "cell_type": "code",
   "execution_count": null,
   "id": "97896da7-960e-40df-a375-e67ba108070a",
   "metadata": {},
   "outputs": [],
   "source": []
  }
 ],
 "metadata": {
  "kernelspec": {
   "display_name": "Python [conda env:.conda-jup312]",
   "language": "python",
   "name": "conda-env-.conda-jup312-py"
  },
  "language_info": {
   "codemirror_mode": {
    "name": "ipython",
    "version": 3
   },
   "file_extension": ".py",
   "mimetype": "text/x-python",
   "name": "python",
   "nbconvert_exporter": "python",
   "pygments_lexer": "ipython3",
   "version": "3.12.3"
  }
 },
 "nbformat": 4,
 "nbformat_minor": 5
}
